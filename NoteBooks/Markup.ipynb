{
 "cells": [
  {
   "cell_type": "markdown",
   "metadata": {
    "collapsed": true
   },
   "source": [
    "# Markup Function\n",
    "\n",
    "Tap provides a simple function you can use to generate css + html and showcase your data."
   ]
  },
  {
   "cell_type": "markdown",
   "metadata": {},
   "source": [
    "## Setup\n",
    "First you import tap, create a connection and fetch the schema like normal."
   ]
  },
  {
   "cell_type": "code",
   "execution_count": 2,
   "metadata": {},
   "outputs": [
    {
     "name": "stdout",
     "output_type": "stream",
     "text": [
      "http://localhost:9000/graphql\n"
     ]
    }
   ],
   "source": [
    "from tapclipy import tap_connect\n",
    "# ipython is only used for the benefit of displaying the output in this notebook\n",
    "from IPython.core.display import display, HTML\n",
    "\n",
    "# Create TAP Connection\n",
    "tap = tap_connect.Connect('http://localhost:9000')\n",
    "\n",
    "# fetch schema\n",
    "tap.fetch_schema()\n",
    "\n",
    "print(tap.url())"
   ]
  },
  {
   "cell_type": "markdown",
   "metadata": {},
   "source": [
    "Next we can run our query like normal (currently only working with reflectExpressions query)"
   ]
  },
  {
   "cell_type": "code",
   "execution_count": 3,
   "metadata": {},
   "outputs": [],
   "source": [
    "query = tap.query('reflectExpressions')\n",
    "\n",
    "string = \"\"\"\n",
    "Firstly, this week was interesting and what I really liked about it was the picture game we played on monday.  \n",
    "I was the one who had the picture and I found it hard to communicate exactly what my drawing was, \n",
    "which showed me just how important communication is if you want to be successful.  \n",
    "It was a fun activity and it showed me some good first hand experience about how to communicate.  \n",
    "Secondly, we got back our memo assignment and I did pretty decent on it but definitely need to rewrite it and work on my memo writing overall.  \n",
    "I need to work on cutting out the fat and my passive writing style, which I know is going to be hard to change \n",
    "but I feel like with a lot of practice I will be able to vastly improve in this area.  \n",
    "Lastly, we have started to gain a little progress on the team project and have come up with some ideas on how to go about researching our proposition.  \n",
    "With regards to my action plan I can’t recall working on encouraging the heart within my group, \n",
    "so that is something I have to be more aware of when we are meeting and do my best to better myself in this area.  \n",
    "I do feel like I have began to form some sort of a relationship with my group members, \n",
    "but I still need to improve these relationships in order for it to feel like I have really developed long term friendships/relationships within my group.  \n",
    "This weekend my plan is to work on rewriting my memo and writing up my resume.  \n",
    "I had a good time in class this week and I am looking forward to what next week has in store for us.\n",
    "\"\"\"\n",
    "\n",
    "strResult = tap.analyse_text(query, string)"
   ]
  },
  {
   "cell_type": "markdown",
   "metadata": {},
   "source": [
    "## Generate CSS\n",
    "Now we can generate the css we need"
   ]
  },
  {
   "cell_type": "code",
   "execution_count": 5,
   "metadata": {},
   "outputs": [
    {
     "name": "stdout",
     "output_type": "stream",
     "text": [
      ".anticipate{\n",
      "  background-color: red;\n",
      "  color: white;\n",
      "}\n",
      ".compare{\n",
      "  background-color: blue;\n",
      "  color: white;\n",
      "}\n",
      ".consider{\n",
      "  background-color: green;\n",
      "  color: white;\n",
      "}\n",
      "\n"
     ]
    }
   ],
   "source": [
    "# dictionary of css rules we want to apply to our data.\n",
    "customStyle = {\n",
    "    \"anticipate\": {\n",
    "        \"background-color\": \"red\",\n",
    "        \"color\": \"white\"\n",
    "    },\n",
    "    \"compare\": {\n",
    "        \"background-color\": \"blue\",\n",
    "        \"color\": \"white\"\n",
    "    },\n",
    "    \"consider\": {\n",
    "        \"background-color\": \"green\",\n",
    "        \"color\": \"white\"\n",
    "    }\n",
    "}\n",
    "\n",
    "# pass the dictionary into the make_css function\n",
    "style = tap.make_css(customStyle)\n",
    "\n",
    "print(style)"
   ]
  },
  {
   "cell_type": "markdown",
   "metadata": {},
   "source": [
    "## Generate HTML\n",
    "now we can pass in the data we returned into the make html function to generate the html.\n",
    "\n",
    "It also takes an optional paramater custom class.\n",
    "\n",
    "For example if we want to apply the class \"badge\" to every phrase tag we can pass it in as a string.\n",
    "You can also pass in multiple classes such as \"badge title\""
   ]
  },
  {
   "cell_type": "code",
   "execution_count": 10,
   "metadata": {},
   "outputs": [
    {
     "name": "stdout",
     "output_type": "stream",
     "text": [
      "firstly , this week was interesting and what <span class='generalpronounverb badge'>i really liked about</span> it was the picture game <span class='generalpronounverb badge'>we played on</span> monday .<span class='generalpronounverb badge'>i was</span> the one who had the picture and <span class='consider badge'><span class='generalpronounverb badge'>i found</span></span> it hard to communicate exactly what <span class='selfpossessive badge'>my drawing</span> was , which showed <span class='generalpronounverb badge'>me just how</span> important communication is if <span class='generalpronounverb badge'>you want</span> to be successful .<span class='generalpronounverb badge'>it was</span> a fun activity and <span class='generalpronounverb badge'>it showed</span> me some good first hand experience <span class='pertains badge'>about how to communicate</span> .secondly , <span class='generalpronounverb badge'>we got back</span> <span class='grouppossessive badge'>our memo assignment</span> and <span class='consider badge'><span class='generalpronounverb badge'>i did pretty</span></span> decent on <span class='anticipate badge'><span class='generalpronounverb badge'>it but definitely need</span></span> to rewrite <span class='generalpronounverb badge'>it and work on</span> <span class='selfpossessive badge'>my memo</span> writing overall .<span class='anticipate badge'><span class='generalpronounverb badge'>i need</span></span> to work <span class='pertains badge'>on cutting</span> out the fat and <span class='selfpossessive badge'>my passive writing style</span> , which <span class='consider badge'><span class='generalpronounverb badge'>i know is going</span></span> to be hard to change but <span class='consider badge'><span class='generalpronounverb badge'>i feel like with</span></span> a lot <span class='pertains badge'>of practice i <span class='definite badge'>will be</span> able to</span> vastly improve in this area .lastly , <span class='anticipate badge'><span class='generalpronounverb badge'>we have started</span></span> to gain a little progress on the team project and have come up with some ideas <span class='pertains badge'>on how to go</span> about researching <span class='grouppossessive badge'>our proposition</span> .<span class='pertains badge'>with regards</span> to <span class='selfpossessive badge'>my action plan</span> i <span class='definite badge'>ca n't recall working</span> <span class='pertains badge'>on encouraging</span> the heart within <span class='selfpossessive badge'>my group</span> , so that is something <span class='generalpronounverb badge'>i have</span> to be more aware of when <span class='generalpronounverb badge'>we are meeting and do</span> <span class='selfpossessive badge'>my best</span> to better <span class='consider badge'><span class='generalpronounverb badge'>myself in</span></span> this area .<span class='consider badge'><span class='generalpronounverb badge'>i do feel like</span></span> i have began to form some sort of a relationship with <span class='selfpossessive badge'><span class='selfpossessive badge'>my group</span> members</span> , but <span class='anticipate badge'><span class='generalpronounverb badge'>i still need</span></span> to improve these relationships <span class='pertains badge'>in order</span> for it to feel like <span class='anticipate badge'><span class='generalpronounverb badge'>i have really developed</span></span> long term friendships / relationships within <span class='selfpossessive badge'>my group</span> .this weekend <span class='selfpossessive badge'>my plan</span> is to work on rewriting <span class='selfpossessive badge'>my memo</span> and writing up <span class='selfpossessive badge'>my resume</span> .<span class='generalpronounverb badge'>i had</span> a good time <span class='pertains badge'>in class</span> this week and <span class='anticipate badge'><span class='generalpronounverb badge'>i am looking forward to</span></span> what next week has in store <span class='pertains badge'>for us</span> .\n",
      "----------------------------------------\n",
      "firstly , this week was interesting and what <span class='generalpronounverb'>i really liked about</span> it was the picture game <span class='generalpronounverb'>we played on</span> monday .<span class='generalpronounverb'>i was</span> the one who had the picture and <span class='consider'><span class='generalpronounverb'>i found</span></span> it hard to communicate exactly what <span class='selfpossessive'>my drawing</span> was , which showed <span class='generalpronounverb'>me just how</span> important communication is if <span class='generalpronounverb'>you want</span> to be successful .<span class='generalpronounverb'>it was</span> a fun activity and <span class='generalpronounverb'>it showed</span> me some good first hand experience <span class='pertains'>about how to communicate</span> .secondly , <span class='generalpronounverb'>we got back</span> <span class='grouppossessive'>our memo assignment</span> and <span class='consider'><span class='generalpronounverb'>i did pretty</span></span> decent on <span class='anticipate'><span class='generalpronounverb'>it but definitely need</span></span> to rewrite <span class='generalpronounverb'>it and work on</span> <span class='selfpossessive'>my memo</span> writing overall .<span class='anticipate'><span class='generalpronounverb'>i need</span></span> to work <span class='pertains'>on cutting</span> out the fat and <span class='selfpossessive'>my passive writing style</span> , which <span class='consider'><span class='generalpronounverb'>i know is going</span></span> to be hard to change but <span class='consider'><span class='generalpronounverb'>i feel like with</span></span> a lot <span class='pertains'>of practice i <span class='definite'>will be</span> able to</span> vastly improve in this area .lastly , <span class='anticipate'><span class='generalpronounverb'>we have started</span></span> to gain a little progress on the team project and have come up with some ideas <span class='pertains'>on how to go</span> about researching <span class='grouppossessive'>our proposition</span> .<span class='pertains'>with regards</span> to <span class='selfpossessive'>my action plan</span> i <span class='definite'>ca n't recall working</span> <span class='pertains'>on encouraging</span> the heart within <span class='selfpossessive'>my group</span> , so that is something <span class='generalpronounverb'>i have</span> to be more aware of when <span class='generalpronounverb'>we are meeting and do</span> <span class='selfpossessive'>my best</span> to better <span class='consider'><span class='generalpronounverb'>myself in</span></span> this area .<span class='consider'><span class='generalpronounverb'>i do feel like</span></span> i have began to form some sort of a relationship with <span class='selfpossessive'><span class='selfpossessive'>my group</span> members</span> , but <span class='anticipate'><span class='generalpronounverb'>i still need</span></span> to improve these relationships <span class='pertains'>in order</span> for it to feel like <span class='anticipate'><span class='generalpronounverb'>i have really developed</span></span> long term friendships / relationships within <span class='selfpossessive'>my group</span> .this weekend <span class='selfpossessive'>my plan</span> is to work on rewriting <span class='selfpossessive'>my memo</span> and writing up <span class='selfpossessive'>my resume</span> .<span class='generalpronounverb'>i had</span> a good time <span class='pertains'>in class</span> this week and <span class='anticipate'><span class='generalpronounverb'>i am looking forward to</span></span> what next week has in store <span class='pertains'>for us</span> .\n"
     ]
    }
   ],
   "source": [
    "# generate html and apply the class badge to each phrase tag\n",
    "html = tap.make_html(strResult, \"badge\")\n",
    "\n",
    "# generate html without a custom class.\n",
    "html_nobadge = tap.make_html(strResult)\n",
    "\n",
    "print(html)\n",
    "print(\"-\"*40)\n",
    "print(html_nobadge)"
   ]
  },
  {
   "cell_type": "markdown",
   "metadata": {},
   "source": [
    "## Put it all together.\n",
    "Now that we have our css and our html, we can pass it into the markup function and get our final output."
   ]
  },
  {
   "cell_type": "code",
   "execution_count": 12,
   "metadata": {},
   "outputs": [
    {
     "data": {
      "text/html": [
       "\n",
       "        <style type=\"text/css\" media=\"screen\">\n",
       "        .anticipate{\n",
       "  background-color: red;\n",
       "  color: white;\n",
       "}\n",
       ".compare{\n",
       "  background-color: blue;\n",
       "  color: white;\n",
       "}\n",
       ".consider{\n",
       "  background-color: green;\n",
       "  color: white;\n",
       "}\n",
       "\n",
       "        </style>\n",
       "        firstly , this week was interesting and what <span class='generalpronounverb'>i really liked about</span> it was the picture game <span class='generalpronounverb'>we played on</span> monday .<span class='generalpronounverb'>i was</span> the one who had the picture and <span class='consider'><span class='generalpronounverb'>i found</span></span> it hard to communicate exactly what <span class='selfpossessive'>my drawing</span> was , which showed <span class='generalpronounverb'>me just how</span> important communication is if <span class='generalpronounverb'>you want</span> to be successful .<span class='generalpronounverb'>it was</span> a fun activity and <span class='generalpronounverb'>it showed</span> me some good first hand experience <span class='pertains'>about how to communicate</span> .secondly , <span class='generalpronounverb'>we got back</span> <span class='grouppossessive'>our memo assignment</span> and <span class='consider'><span class='generalpronounverb'>i did pretty</span></span> decent on <span class='anticipate'><span class='generalpronounverb'>it but definitely need</span></span> to rewrite <span class='generalpronounverb'>it and work on</span> <span class='selfpossessive'>my memo</span> writing overall .<span class='anticipate'><span class='generalpronounverb'>i need</span></span> to work <span class='pertains'>on cutting</span> out the fat and <span class='selfpossessive'>my passive writing style</span> , which <span class='consider'><span class='generalpronounverb'>i know is going</span></span> to be hard to change but <span class='consider'><span class='generalpronounverb'>i feel like with</span></span> a lot <span class='pertains'>of practice i <span class='definite'>will be</span> able to</span> vastly improve in this area .lastly , <span class='anticipate'><span class='generalpronounverb'>we have started</span></span> to gain a little progress on the team project and have come up with some ideas <span class='pertains'>on how to go</span> about researching <span class='grouppossessive'>our proposition</span> .<span class='pertains'>with regards</span> to <span class='selfpossessive'>my action plan</span> i <span class='definite'>ca n't recall working</span> <span class='pertains'>on encouraging</span> the heart within <span class='selfpossessive'>my group</span> , so that is something <span class='generalpronounverb'>i have</span> to be more aware of when <span class='generalpronounverb'>we are meeting and do</span> <span class='selfpossessive'>my best</span> to better <span class='consider'><span class='generalpronounverb'>myself in</span></span> this area .<span class='consider'><span class='generalpronounverb'>i do feel like</span></span> i have began to form some sort of a relationship with <span class='selfpossessive'><span class='selfpossessive'>my group</span> members</span> , but <span class='anticipate'><span class='generalpronounverb'>i still need</span></span> to improve these relationships <span class='pertains'>in order</span> for it to feel like <span class='anticipate'><span class='generalpronounverb'>i have really developed</span></span> long term friendships / relationships within <span class='selfpossessive'>my group</span> .this weekend <span class='selfpossessive'>my plan</span> is to work on rewriting <span class='selfpossessive'>my memo</span> and writing up <span class='selfpossessive'>my resume</span> .<span class='generalpronounverb'>i had</span> a good time <span class='pertains'>in class</span> this week and <span class='anticipate'><span class='generalpronounverb'>i am looking forward to</span></span> what next week has in store <span class='pertains'>for us</span> ."
      ],
      "text/plain": [
       "<IPython.core.display.HTML object>"
      ]
     },
     "metadata": {},
     "output_type": "display_data"
    }
   ],
   "source": [
    "output = tap.markup(html_nobadge, style)\n",
    "display(HTML(output))"
   ]
  },
  {
   "cell_type": "code",
   "execution_count": null,
   "metadata": {},
   "outputs": [],
   "source": []
  }
 ],
 "metadata": {
  "kernelspec": {
   "display_name": "Python 3",
   "language": "python",
   "name": "python3"
  },
  "language_info": {
   "codemirror_mode": {
    "name": "ipython",
    "version": 3
   },
   "file_extension": ".py",
   "mimetype": "text/x-python",
   "name": "python",
   "nbconvert_exporter": "python",
   "pygments_lexer": "ipython3",
   "version": "3.7.0"
  }
 },
 "nbformat": 4,
 "nbformat_minor": 1
}
