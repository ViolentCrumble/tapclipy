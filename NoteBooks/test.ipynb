{
 "cells": [
  {
   "cell_type": "code",
   "execution_count": 0,
   "metadata": {
    "collapsed": true
   },
   "outputs": [
    {
     "name": "stdout",
     "output_type": "stream",
     "text": [
      "http://localhost:9000/graphql\n"
     ]
    }
   ],
   "source": [
    "from tapclipy import tap_connect\n",
    "from IPython.core.display import display, HTML\n",
    "\n",
    "# Create TAP Connection\n",
    "tap = tap_connect.Connect('http://localhost:9000')\n",
    "tap.fetch_schema()\n",
    "print(tap.url())"
   ]
  },
  {
   "cell_type": "code",
   "execution_count": null,
   "metadata": {},
   "outputs": [
    {
     "data": {
      "text/html": [
       "\n",
       "        <h1>Results from Query</h1>\n",
       "        <br />\n",
       "        \n",
       "        "
      ],
      "text/plain": [
       "\n",
       "        <h1>Results from Query</h1>\n",
       "        <br />\n",
       "        \n",
       "        "
      ]
     },
     "execution_count": 0,
     "metadata": {},
     "output_type": "execute_result"
    }
   ],
   "source": [
    "query = tap.query('reflectExpressions')\n",
    "\n",
    "string = \"\"\"\n",
    "Firstly, this week was interesting and what I really liked about it was the picture game we played on monday.  \n",
    "I was the one who had the picture and I found it hard to communicate exactly what my drawing was, \n",
    "which showed me just how important communication is if you want to be successful.  \n",
    "It was a fun activity and it showed me some good first hand experience about how to communicate.  \n",
    "Secondly, we got back our memo assignment and I did pretty decent on it but definitely need to rewrite it and work on my memo writing overall.  \n",
    "I need to work on cutting out the fat and my passive writing style, which I know is going to be hard to change \n",
    "but I feel like with a lot of practice I will be able to vastly improve in this area.  \n",
    "Lastly, we have started to gain a little progress on the team project and have come up with some ideas on how to go about researching our proposition.  \n",
    "With regards to my action plan I can’t recall working on encouraging the heart within my group, \n",
    "so that is something I have to be more aware of when we are meeting and do my best to better myself in this area.  \n",
    "I do feel like I have began to form some sort of a relationship with my group members, \n",
    "but I still need to improve these relationships in order for it to feel like I have really developed long term friendships/relationships within my group.  \n",
    "This weekend my plan is to work on rewriting my memo and writing up my resume.  \n",
    "I had a good time in class this week and I am looking forward to what next week has in store for us.\n",
    "\"\"\"\n",
    "\n",
    "strResult = tap.analyse_text(query, string)\n",
    "\n",
    "output = tap.markup(string, strResult)\n",
    "\n",
    "display(HTML(output))\n"
   ]
  },
  {
   "cell_type": "code",
   "execution_count": null,
   "metadata": {},
   "outputs": [],
   "source": []
  },
  {
   "cell_type": "code",
   "execution_count": null,
   "metadata": {},
   "outputs": [],
   "source": []
  }
 ],
 "metadata": {
  "kernelspec": {
   "display_name": "Python 2",
   "language": "python",
   "name": "python2"
  },
  "language_info": {
   "codemirror_mode": {
    "name": "ipython",
    "version": 2
   },
   "file_extension": ".py",
   "mimetype": "text/x-python",
   "name": "python",
   "nbconvert_exporter": "python",
   "pygments_lexer": "ipython2",
   "version": "2.7.6"
  }
 },
 "nbformat": 4,
 "nbformat_minor": 0
}
